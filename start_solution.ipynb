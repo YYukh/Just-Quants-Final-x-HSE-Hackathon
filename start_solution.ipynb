{
 "cells": [
  {
   "cell_type": "code",
   "execution_count": 1,
   "id": "29d2f20d",
   "metadata": {},
   "outputs": [
    {
     "name": "stdout",
     "output_type": "stream",
     "text": [
      "📥 Загрузка модели сентимента...\n",
      "Используется устройство: mps\n",
      "✅ Модель сентимента готова!\n",
      "🔍 Анализ тикеров и макро...\n"
     ]
    },
    {
     "name": "stderr",
     "output_type": "stream",
     "text": [
      "Тикеры: 100%|██████████| 27455/27455 [00:02<00:00, 10205.16it/s]\n",
      "Макро: 100%|██████████| 27455/27455 [00:01<00:00, 13966.44it/s]\n"
     ]
    },
    {
     "name": "stdout",
     "output_type": "stream",
     "text": [
      "🧠 Анализ сентимента...\n"
     ]
    },
    {
     "name": "stderr",
     "output_type": "stream",
     "text": [
      "Сентимент: 100%|██████████| 108/108 [05:18<00:00,  2.95s/it]\n",
      "/Users/yuriyyukhnovskiy/Desktop/py/Finam x HSE Hack/finam-x-hse-trade-ai-hack-forecast-main/scripts/just_quant_solution.py:264: FutureWarning: The previous implementation of stack is deprecated and will be removed in a future version of pandas. See the What's New notes for pandas 2.1.0 for details. Specify future_stack=True to adopt the new implementation and silence this warning.\n",
      "  X = generate_features(df_pivot).stack().sort_index()\n"
     ]
    },
    {
     "name": "stdout",
     "output_type": "stream",
     "text": [
      "Generating labels and vol for period = 1\n",
      "Generating labels and vol for period = 2\n",
      "Generating labels and vol for period = 3\n",
      "Generating labels and vol for period = 4\n",
      "Generating labels and vol for period = 5\n",
      "Generating labels and vol for period = 6\n",
      "Generating labels and vol for period = 7\n",
      "Generating labels and vol for period = 8\n",
      "Generating labels and vol for period = 9\n",
      "Generating labels and vol for period = 10\n",
      "Generating labels and vol for period = 11\n",
      "Generating labels and vol for period = 12\n",
      "Generating labels and vol for period = 13\n",
      "Generating labels and vol for period = 14\n",
      "Generating labels and vol for period = 15\n",
      "Generating labels and vol for period = 16\n",
      "Generating labels and vol for period = 17\n",
      "Generating labels and vol for period = 18\n",
      "Generating labels and vol for period = 19\n",
      "Generating labels and vol for period = 20\n"
     ]
    },
    {
     "name": "stderr",
     "output_type": "stream",
     "text": [
      "[I 2025-10-05 02:48:33,725] A new study created in memory with name: no-name-ca32cdfd-3302-4ce1-813a-7e21edd59b3a\n"
     ]
    },
    {
     "data": {
      "application/vnd.jupyter.widget-view+json": {
       "model_id": "64659705067d4b7799ff341a3e47e371",
       "version_major": 2,
       "version_minor": 0
      },
      "text/plain": [
       "  0%|          | 0/50 [00:00<?, ?it/s]"
      ]
     },
     "metadata": {},
     "output_type": "display_data"
    },
    {
     "name": "stdout",
     "output_type": "stream",
     "text": [
      "[I 2025-10-05 02:48:43,285] Trial 0 finished with value: 0.3530382236798284 and parameters: {'n_estimators': 144, 'max_depth': 12, 'learning_rate': 0.1205712628744377, 'subsample': 0.8394633936788146, 'colsample_bytree': 0.6624074561769746, 'min_child_weight': 2, 'gamma': 0.02904180608409973, 'reg_alpha': 0.8661761457749352, 'reg_lambda': 0.6410035105688879}. Best is trial 0 with value: 0.3530382236798284.\n",
      "[I 2025-10-05 02:48:46,140] Trial 1 finished with value: 0.38387469983234707 and parameters: {'n_estimators': 227, 'max_depth': 3, 'learning_rate': 0.27081608642499677, 'subsample': 0.9329770563201687, 'colsample_bytree': 0.6849356442713105, 'min_child_weight': 2, 'gamma': 0.09170225492671691, 'reg_alpha': 0.3042422429595377, 'reg_lambda': 0.5722807884690141}. Best is trial 1 with value: 0.38387469983234707.\n",
      "[I 2025-10-05 02:48:49,413] Trial 2 finished with value: 0.3844492999896192 and parameters: {'n_estimators': 158, 'max_depth': 5, 'learning_rate': 0.08012737503998542, 'subsample': 0.6557975442608167, 'colsample_bytree': 0.7168578594140872, 'min_child_weight': 4, 'gamma': 0.22803499210851796, 'reg_alpha': 0.7851759613930136, 'reg_lambda': 0.2797064039425238}. Best is trial 2 with value: 0.3844492999896192.\n",
      "[I 2025-10-05 02:48:56,343] Trial 3 finished with value: 0.38594607197511394 and parameters: {'n_estimators': 179, 'max_depth': 8, 'learning_rate': 0.011711509955524094, 'subsample': 0.8430179407605753, 'colsample_bytree': 0.6682096494749166, 'min_child_weight': 1, 'gamma': 0.4744427686266666, 'reg_alpha': 0.9656320330745594, 'reg_lambda': 0.827557613304815}. Best is trial 3 with value: 0.38594607197511394.\n",
      "[I 2025-10-05 02:48:57,958] Trial 4 finished with value: 0.3918885076365851 and parameters: {'n_estimators': 126, 'max_depth': 3, 'learning_rate': 0.1024932221692416, 'subsample': 0.7760609974958405, 'colsample_bytree': 0.6488152939379115, 'min_child_weight': 5, 'gamma': 0.017194260557609198, 'reg_alpha': 0.9093204020787821, 'reg_lambda': 0.33290198344001526}. Best is trial 4 with value: 0.3918885076365851.\n",
      "[I 2025-10-05 02:49:03,142] Trial 5 finished with value: 0.3829376489470321 and parameters: {'n_estimators': 216, 'max_depth': 6, 'learning_rate': 0.05864129169696527, 'subsample': 0.8186841117373118, 'colsample_bytree': 0.6739417822102108, 'min_child_weight': 10, 'gamma': 0.3875664116805573, 'reg_alpha': 0.9394989415641891, 'reg_lambda': 0.905344615384884}. Best is trial 4 with value: 0.3918885076365851.\n",
      "[I 2025-10-05 02:49:15,117] Trial 6 finished with value: 0.3683360546611754 and parameters: {'n_estimators': 200, 'max_depth': 12, 'learning_rate': 0.01351182947645082, 'subsample': 0.678393144967658, 'colsample_bytree': 0.6180909155642152, 'min_child_weight': 4, 'gamma': 0.194338644844741, 'reg_alpha': 0.2713490317738959, 'reg_lambda': 0.8458637582367364}. Best is trial 4 with value: 0.3918885076365851.\n",
      "[I 2025-10-05 02:49:18,045] Trial 7 finished with value: 0.38555082668620455 and parameters: {'n_estimators': 139, 'max_depth': 5, 'learning_rate': 0.06333268775321839, 'subsample': 0.6563696899899051, 'colsample_bytree': 0.9208787923016158, 'min_child_weight': 1, 'gamma': 0.49344346830025865, 'reg_alpha': 0.7722447692966574, 'reg_lambda': 0.27884411338075515}. Best is trial 4 with value: 0.3918885076365851.\n",
      "[I 2025-10-05 02:49:21,773] Trial 8 finished with value: 0.35851034732197684 and parameters: {'n_estimators': 51, 'max_depth': 11, 'learning_rate': 0.11069143219393454, 'subsample': 0.8916028672163949, 'colsample_bytree': 0.9085081386743783, 'min_child_weight': 1, 'gamma': 0.1792328642721363, 'reg_alpha': 0.11586905952512971, 'reg_lambda': 0.8767930832880342}. Best is trial 4 with value: 0.3918885076365851.\n",
      "[I 2025-10-05 02:49:26,788] Trial 9 finished with value: 0.39146631768622697 and parameters: {'n_estimators': 206, 'max_depth': 6, 'learning_rate': 0.012413189635294229, 'subsample': 0.7243929286862648, 'colsample_bytree': 0.7300733288106988, 'min_child_weight': 8, 'gamma': 0.31877873567760656, 'reg_alpha': 0.8872127425763265, 'reg_lambda': 0.5249934326457544}. Best is trial 4 with value: 0.3918885076365851.\n",
      "[I 2025-10-05 02:49:30,302] Trial 10 finished with value: 0.38609045138536907 and parameters: {'n_estimators': 287, 'max_depth': 3, 'learning_rate': 0.028477486830279893, 'subsample': 0.751180619986081, 'colsample_bytree': 0.8144754354791038, 'min_child_weight': 7, 'gamma': 0.007563407956692315, 'reg_alpha': 0.6135622195040731, 'reg_lambda': 0.1426531919522738}. Best is trial 4 with value: 0.3918885076365851.\n",
      "[I 2025-10-05 02:49:33,179] Trial 11 finished with value: 0.38403307711082907 and parameters: {'n_estimators': 81, 'max_depth': 8, 'learning_rate': 0.02262233801382747, 'subsample': 0.7467143880908637, 'colsample_bytree': 0.7737425087025646, 'min_child_weight': 8, 'gamma': 0.34289858523963584, 'reg_alpha': 0.6071842740332256, 'reg_lambda': 0.36157601661643834}. Best is trial 4 with value: 0.3918885076365851.\n",
      "[I 2025-10-05 02:49:35,791] Trial 12 finished with value: 0.36903451684409233 and parameters: {'n_estimators': 104, 'max_depth': 6, 'learning_rate': 0.22233691449613827, 'subsample': 0.7382774980993067, 'colsample_bytree': 0.7668689715046753, 'min_child_weight': 6, 'gamma': 0.3138214726279749, 'reg_alpha': 0.6766743755524007, 'reg_lambda': 0.44653785467667517}. Best is trial 4 with value: 0.3918885076365851.\n",
      "[I 2025-10-05 02:49:39,881] Trial 13 finished with value: 0.3848145487225104 and parameters: {'n_estimators': 262, 'max_depth': 4, 'learning_rate': 0.027865335243962584, 'subsample': 0.9997449754566207, 'colsample_bytree': 0.6038766333396672, 'min_child_weight': 9, 'gamma': 0.12077746649016988, 'reg_alpha': 0.46334531917487487, 'reg_lambda': 0.6802063167412771}. Best is trial 4 with value: 0.3918885076365851.\n",
      "[I 2025-10-05 02:49:44,957] Trial 14 finished with value: 0.3642266234751675 and parameters: {'n_estimators': 109, 'max_depth': 10, 'learning_rate': 0.15617500002908435, 'subsample': 0.6024911829936358, 'colsample_bytree': 0.8347391526879165, 'min_child_weight': 5, 'gamma': 0.2932486942541228, 'reg_alpha': 0.9899643673118127, 'reg_lambda': 0.45062190504288135}. Best is trial 4 with value: 0.3918885076365851.\n",
      "[I 2025-10-05 02:49:52,032] Trial 15 finished with value: 0.38214948667318727 and parameters: {'n_estimators': 246, 'max_depth': 7, 'learning_rate': 0.0377431759849879, 'subsample': 0.7800211210248257, 'colsample_bytree': 0.7279722213610305, 'min_child_weight': 7, 'gamma': 0.3967027089796553, 'reg_alpha': 0.46567820973492247, 'reg_lambda': 0.15238098428570698}. Best is trial 4 with value: 0.3918885076365851.\n",
      "[I 2025-10-05 02:49:59,850] Trial 16 finished with value: 0.38266383502651424 and parameters: {'n_estimators': 184, 'max_depth': 9, 'learning_rate': 0.018402100996791144, 'subsample': 0.7046304445297749, 'colsample_bytree': 0.8642396983313833, 'min_child_weight': 5, 'gamma': 0.2550187179853742, 'reg_alpha': 0.7913216863012131, 'reg_lambda': 0.47670663476954805}. Best is trial 4 with value: 0.3918885076365851.\n",
      "[I 2025-10-05 02:50:01,787] Trial 17 finished with value: 0.3879980700725928 and parameters: {'n_estimators': 120, 'max_depth': 4, 'learning_rate': 0.04323444823345438, 'subsample': 0.7807341107718283, 'colsample_bytree': 0.7288394669054945, 'min_child_weight': 8, 'gamma': 0.12463851220732017, 'reg_alpha': 0.7054035076932256, 'reg_lambda': 0.7041132706154968}. Best is trial 4 with value: 0.3918885076365851.\n",
      "[I 2025-10-05 02:50:08,785] Trial 18 finished with value: 0.37900266851654835 and parameters: {'n_estimators': 299, 'max_depth': 6, 'learning_rate': 0.08915507536329674, 'subsample': 0.6007269822572683, 'colsample_bytree': 0.6290591407735434, 'min_child_weight': 10, 'gamma': 0.40937841904106453, 'reg_alpha': 0.8861776602682052, 'reg_lambda': 0.30552958937985186}. Best is trial 4 with value: 0.3918885076365851.\n",
      "[I 2025-10-05 02:50:11,348] Trial 19 finished with value: 0.38287028044298765 and parameters: {'n_estimators': 158, 'max_depth': 4, 'learning_rate': 0.17771986659368127, 'subsample': 0.8950939276486971, 'colsample_bytree': 0.764088169035724, 'min_child_weight': 6, 'gamma': 0.0757773382181676, 'reg_alpha': 0.5476602649980744, 'reg_lambda': 0.5689858952983908}. Best is trial 4 with value: 0.3918885076365851.\n",
      "[I 2025-10-05 02:50:13,674] Trial 20 finished with value: 0.3851767422839293 and parameters: {'n_estimators': 71, 'max_depth': 7, 'learning_rate': 0.016501479505930235, 'subsample': 0.7075496061281158, 'colsample_bytree': 0.980016171611862, 'min_child_weight': 4, 'gamma': 0.1790639271242748, 'reg_alpha': 0.011620961627553272, 'reg_lambda': 0.9944585065447379}. Best is trial 4 with value: 0.3918885076365851.\n",
      "[I 2025-10-05 02:50:15,684] Trial 21 finished with value: 0.3872916467682104 and parameters: {'n_estimators': 124, 'max_depth': 4, 'learning_rate': 0.03954223861264044, 'subsample': 0.7908802065171118, 'colsample_bytree': 0.7258461201639888, 'min_child_weight': 8, 'gamma': 0.1309027014198165, 'reg_alpha': 0.7080551268660994, 'reg_lambda': 0.709334145804246}. Best is trial 4 with value: 0.3918885076365851.\n",
      "[I 2025-10-05 02:50:16,938] Trial 22 finished with value: 0.3827132923525534 and parameters: {'n_estimators': 97, 'max_depth': 3, 'learning_rate': 0.04398189955114848, 'subsample': 0.7784971876145845, 'colsample_bytree': 0.7123309056025083, 'min_child_weight': 8, 'gamma': 0.020451476467943264, 'reg_alpha': 0.8547690477434284, 'reg_lambda': 0.7634575325621344}. Best is trial 4 with value: 0.3918885076365851.\n",
      "[I 2025-10-05 02:50:19,347] Trial 23 finished with value: 0.39019770400242576 and parameters: {'n_estimators': 120, 'max_depth': 5, 'learning_rate': 0.07831314862471192, 'subsample': 0.7190115681947283, 'colsample_bytree': 0.6397670014526669, 'min_child_weight': 7, 'gamma': 0.05670599422604694, 'reg_alpha': 0.7220523202562472, 'reg_lambda': 0.39082506434950615}. Best is trial 4 with value: 0.3918885076365851.\n",
      "[I 2025-10-05 02:50:23,263] Trial 24 finished with value: 0.38440165650929664 and parameters: {'n_estimators': 199, 'max_depth': 5, 'learning_rate': 0.07833607453076469, 'subsample': 0.7090533088537676, 'colsample_bytree': 0.633376533474662, 'min_child_weight': 7, 'gamma': 0.06693901961373044, 'reg_alpha': 0.8946482616640149, 'reg_lambda': 0.36233299972489674}. Best is trial 4 with value: 0.3918885076365851.\n",
      "[I 2025-10-05 02:50:26,414] Trial 25 finished with value: 0.3796232523678755 and parameters: {'n_estimators': 160, 'max_depth': 5, 'learning_rate': 0.1348539917701564, 'subsample': 0.6377739022043656, 'colsample_bytree': 0.6450939305169553, 'min_child_weight': 9, 'gamma': 0.04500050385224012, 'reg_alpha': 0.7567162440693694, 'reg_lambda': 0.5085389421336501}. Best is trial 4 with value: 0.3918885076365851.\n",
      "[I 2025-10-05 02:50:28,455] Trial 26 finished with value: 0.3835455903857315 and parameters: {'n_estimators': 82, 'max_depth': 6, 'learning_rate': 0.09511800822748855, 'subsample': 0.7366195675267279, 'colsample_bytree': 0.6907939095057634, 'min_child_weight': 6, 'gamma': 0.2653278416823285, 'reg_alpha': 0.8269274226409902, 'reg_lambda': 0.22175693977753197}. Best is trial 4 with value: 0.3918885076365851.\n",
      "[I 2025-10-05 02:50:30,212] Trial 27 finished with value: 0.38895808018804406 and parameters: {'n_estimators': 141, 'max_depth': 3, 'learning_rate': 0.06468943607926729, 'subsample': 0.6887656136016792, 'colsample_bytree': 0.6002010924174157, 'min_child_weight': 5, 'gamma': 0.3494778709835288, 'reg_alpha': 0.9297527572469443, 'reg_lambda': 0.37079908738615047}. Best is trial 4 with value: 0.3918885076365851.\n",
      "[I 2025-10-05 02:50:36,176] Trial 28 finished with value: 0.3629233910761646 and parameters: {'n_estimators': 233, 'max_depth': 7, 'learning_rate': 0.19631775461329348, 'subsample': 0.8158585551349538, 'colsample_bytree': 0.649391534794159, 'min_child_weight': 3, 'gamma': 0.22155146140759996, 'reg_alpha': 0.6426109086637726, 'reg_lambda': 0.4018288510294289}. Best is trial 4 with value: 0.3918885076365851.\n",
      "[I 2025-10-05 02:50:38,331] Trial 29 finished with value: 0.38657083266173464 and parameters: {'n_estimators': 135, 'max_depth': 4, 'learning_rate': 0.12007377268287805, 'subsample': 0.8598040930496175, 'colsample_bytree': 0.6979549582377119, 'min_child_weight': 9, 'gamma': 0.04068884596059657, 'reg_alpha': 0.3683596049935471, 'reg_lambda': 0.612594009205822}. Best is trial 4 with value: 0.3918885076365851.\n",
      "[I 2025-10-05 02:50:42,310] Trial 30 finished with value: 0.38482237628248633 and parameters: {'n_estimators': 201, 'max_depth': 5, 'learning_rate': 0.010406994452374883, 'subsample': 0.7598264377363163, 'colsample_bytree': 0.6646945927865077, 'min_child_weight': 7, 'gamma': 0.0007691763749139817, 'reg_alpha': 0.8645440342049153, 'reg_lambda': 0.2081913145277165}. Best is trial 4 with value: 0.3918885076365851.\n",
      "[I 2025-10-05 02:50:44,187] Trial 31 finished with value: 0.39156730351851404 and parameters: {'n_estimators': 150, 'max_depth': 3, 'learning_rate': 0.07153031675338324, 'subsample': 0.6839106641794297, 'colsample_bytree': 0.6214977484774703, 'min_child_weight': 5, 'gamma': 0.35119498726975273, 'reg_alpha': 0.9219244637436946, 'reg_lambda': 0.38822079568780365}. Best is trial 4 with value: 0.3918885076365851.\n",
      "[I 2025-10-05 02:50:46,278] Trial 32 finished with value: 0.38779881027575847 and parameters: {'n_estimators': 169, 'max_depth': 3, 'learning_rate': 0.05181401705718088, 'subsample': 0.7233044774405636, 'colsample_bytree': 0.6495741103971822, 'min_child_weight': 3, 'gamma': 0.44205528002120703, 'reg_alpha': 0.9788263326203609, 'reg_lambda': 0.32087181908644535}. Best is trial 4 with value: 0.3918885076365851.\n",
      "[I 2025-10-05 02:50:47,760] Trial 33 finished with value: 0.39163395388058225 and parameters: {'n_estimators': 117, 'max_depth': 3, 'learning_rate': 0.07400057502054463, 'subsample': 0.6743503937736177, 'colsample_bytree': 0.7440563453576893, 'min_child_weight': 6, 'gamma': 0.3554487353770981, 'reg_alpha': 0.826910981886378, 'reg_lambda': 0.5206323839857292}. Best is trial 4 with value: 0.3918885076365851.\n",
      "[I 2025-10-05 02:50:49,647] Trial 34 finished with value: 0.38737081634712306 and parameters: {'n_estimators': 150, 'max_depth': 3, 'learning_rate': 0.10211077309559938, 'subsample': 0.6336108560124643, 'colsample_bytree': 0.7448690397631887, 'min_child_weight': 5, 'gamma': 0.34246585482381725, 'reg_alpha': 0.8093260249785428, 'reg_lambda': 0.5279756171129398}. Best is trial 4 with value: 0.3918885076365851.\n",
      "[I 2025-10-05 02:50:52,541] Trial 35 finished with value: 0.38593552237093853 and parameters: {'n_estimators': 178, 'max_depth': 4, 'learning_rate': 0.1370713635753529, 'subsample': 0.6778913980027236, 'colsample_bytree': 0.7830677152598604, 'min_child_weight': 3, 'gamma': 0.29620990171703176, 'reg_alpha': 0.9035377261945778, 'reg_lambda': 0.6039131071750303}. Best is trial 4 with value: 0.3918885076365851.\n",
      "[I 2025-10-05 02:50:54,882] Trial 36 finished with value: 0.38420475392919673 and parameters: {'n_estimators': 189, 'max_depth': 3, 'learning_rate': 0.2801239726127749, 'subsample': 0.6501061481240754, 'colsample_bytree': 0.6784504075456558, 'min_child_weight': 4, 'gamma': 0.4332219111600029, 'reg_alpha': 0.9395733863358735, 'reg_lambda': 0.4937951313670018}. Best is trial 4 with value: 0.3918885076365851.\n",
      "[I 2025-10-05 02:51:03,378] Trial 37 finished with value: 0.3653633198327654 and parameters: {'n_estimators': 219, 'max_depth': 9, 'learning_rate': 0.07404426965720154, 'subsample': 0.6913412576145898, 'colsample_bytree': 0.7006370428783895, 'min_child_weight': 6, 'gamma': 0.35379237111833434, 'reg_alpha': 0.8367632283161581, 'reg_lambda': 0.43510137530793047}. Best is trial 4 with value: 0.3918885076365851.\n",
      "[I 2025-10-05 02:51:05,031] Trial 38 finished with value: 0.3928267894008735 and parameters: {'n_estimators': 131, 'max_depth': 3, 'learning_rate': 0.05321082652224749, 'subsample': 0.669566444840387, 'colsample_bytree': 0.7970749896859881, 'min_child_weight': 4, 'gamma': 0.3826212184011438, 'reg_alpha': 0.9966320572941859, 'reg_lambda': 0.5414541351550346}. Best is trial 38 with value: 0.3928267894008735.\n",
      "[I 2025-10-05 02:51:06,671] Trial 39 finished with value: 0.38767307982480437 and parameters: {'n_estimators': 129, 'max_depth': 3, 'learning_rate': 0.053476913519738094, 'subsample': 0.6234051998172649, 'colsample_bytree': 0.8101231919269674, 'min_child_weight': 2, 'gamma': 0.37627292732789885, 'reg_alpha': 0.9954271156693052, 'reg_lambda': 0.25987584267036395}. Best is trial 38 with value: 0.3928267894008735.\n",
      "[I 2025-10-05 02:51:08,471] Trial 40 finished with value: 0.3874696721273635 and parameters: {'n_estimators': 108, 'max_depth': 4, 'learning_rate': 0.032595660670865466, 'subsample': 0.6761386420710609, 'colsample_bytree': 0.8455444494168294, 'min_child_weight': 4, 'gamma': 0.4555308826174674, 'reg_alpha': 0.946673485900673, 'reg_lambda': 0.6491363816100783}. Best is trial 38 with value: 0.3928267894008735.\n",
      "[I 2025-10-05 02:51:10,324] Trial 41 finished with value: 0.3892996037161 and parameters: {'n_estimators': 148, 'max_depth': 3, 'learning_rate': 0.06811908088720504, 'subsample': 0.6592435898486226, 'colsample_bytree': 0.7474268196816761, 'min_child_weight': 5, 'gamma': 0.31953546734196575, 'reg_alpha': 0.8981850863350163, 'reg_lambda': 0.5539743958738705}. Best is trial 38 with value: 0.3928267894008735.\n",
      "[I 2025-10-05 02:51:13,029] Trial 42 finished with value: 0.38780018804072286 and parameters: {'n_estimators': 167, 'max_depth': 4, 'learning_rate': 0.051561001398728094, 'subsample': 0.6646906217117323, 'colsample_bytree': 0.7935646476528259, 'min_child_weight': 4, 'gamma': 0.3738614824320462, 'reg_alpha': 0.7620746869747573, 'reg_lambda': 0.5237135746776701}. Best is trial 38 with value: 0.3928267894008735.\n",
      "[I 2025-10-05 02:51:14,180] Trial 43 finished with value: 0.3704372693166938 and parameters: {'n_estimators': 88, 'max_depth': 3, 'learning_rate': 0.013722315372926544, 'subsample': 0.7587846336123761, 'colsample_bytree': 0.8834063075700739, 'min_child_weight': 3, 'gamma': 0.4247497701105708, 'reg_alpha': 0.9429478964614579, 'reg_lambda': 0.41791942339118127}. Best is trial 38 with value: 0.3928267894008735.\n",
      "[I 2025-10-05 02:51:17,963] Trial 44 finished with value: 0.3716750529231053 and parameters: {'n_estimators': 61, 'max_depth': 12, 'learning_rate': 0.08868742933520046, 'subsample': 0.8096013910905582, 'colsample_bytree': 0.829606985825179, 'min_child_weight': 6, 'gamma': 0.2818363985450103, 'reg_alpha': 0.8644818912535691, 'reg_lambda': 0.3279327181300282}. Best is trial 38 with value: 0.3928267894008735.\n",
      "[I 2025-10-05 02:51:19,808] Trial 45 finished with value: 0.38328437333358695 and parameters: {'n_estimators': 114, 'max_depth': 4, 'learning_rate': 0.022225680483315673, 'subsample': 0.8398427248424729, 'colsample_bytree': 0.7585390693581765, 'min_child_weight': 5, 'gamma': 0.3184336639069674, 'reg_alpha': 0.9928123279094212, 'reg_lambda': 0.5923617859232461}. Best is trial 38 with value: 0.3928267894008735.\n",
      "[I 2025-10-05 02:51:21,778] Trial 46 finished with value: 0.38624028528000337 and parameters: {'n_estimators': 99, 'max_depth': 5, 'learning_rate': 0.11133473439872524, 'subsample': 0.7273050302532765, 'colsample_bytree': 0.6162287485626318, 'min_child_weight': 6, 'gamma': 0.21566092003514709, 'reg_alpha': 0.2703426661133521, 'reg_lambda': 0.4721951706719691}. Best is trial 38 with value: 0.3928267894008735.\n",
      "[I 2025-10-05 02:51:25,447] Trial 47 finished with value: 0.38617532253168185 and parameters: {'n_estimators': 147, 'max_depth': 6, 'learning_rate': 0.0603404281218019, 'subsample': 0.6946523604015097, 'colsample_bytree': 0.7933224290001628, 'min_child_weight': 4, 'gamma': 0.3660273448942057, 'reg_alpha': 0.7934998486402499, 'reg_lambda': 0.6462267506697106}. Best is trial 38 with value: 0.3928267894008735.\n",
      "[I 2025-10-05 02:51:27,127] Trial 48 finished with value: 0.38658494743842126 and parameters: {'n_estimators': 134, 'max_depth': 3, 'learning_rate': 0.2294697579522159, 'subsample': 0.6186458766901914, 'colsample_bytree': 0.6712348530912721, 'min_child_weight': 5, 'gamma': 0.41032875659713075, 'reg_alpha': 0.8364774542768825, 'reg_lambda': 0.46297836099306267}. Best is trial 38 with value: 0.3928267894008735.\n",
      "[I 2025-10-05 02:51:33,333] Trial 49 finished with value: 0.3621119595631355 and parameters: {'n_estimators': 208, 'max_depth': 10, 'learning_rate': 0.1488815465871922, 'subsample': 0.7607908651187647, 'colsample_bytree': 0.7445465860153869, 'min_child_weight': 7, 'gamma': 0.4861453562449903, 'reg_alpha': 0.9165577109831703, 'reg_lambda': 0.5489480640474586}. Best is trial 38 with value: 0.3928267894008735.\n",
      "Training on period = 1\n",
      "Training on period = 2\n",
      "Training on period = 3\n",
      "Training on period = 4\n",
      "Training on period = 5\n",
      "Training on period = 6\n",
      "Training on period = 7\n",
      "Training on period = 8\n",
      "Training on period = 9\n",
      "Training on period = 10\n",
      "Training on period = 11\n",
      "Training on period = 12\n",
      "Training on period = 13\n",
      "Training on period = 14\n",
      "Training on period = 15\n",
      "Training on period = 16\n",
      "Training on period = 17\n",
      "Training on period = 18\n",
      "Training on period = 19\n",
      "Training on period = 20\n",
      "✅ Результат сохранён в sample_submission.csv\n"
     ]
    }
   ],
   "source": [
    "from scripts.just_quant_solution import JustQuantSolution\n",
    "\n",
    "if __name__ == \"__main__\":\n",
    "    solution = JustQuantSolution(max_period=20)\n",
    "    solution(\n",
    "        train_path=\"data/raw/participants/candles.csv\",\n",
    "        train_path_news=\"data/raw/participants/news.csv\",\n",
    "        test_path=\"data/raw/participants/candles_2.csv\",\n",
    "        test_path_news=\"data/raw/participants/news_2.csv\",\n",
    "        output_path=\"sample_submission.csv\"\n",
    "    )"
   ]
  },
  {
   "cell_type": "code",
   "execution_count": null,
   "id": "2687474b",
   "metadata": {},
   "outputs": [],
   "source": []
  }
 ],
 "metadata": {
  "kernelspec": {
   "display_name": "Python 3",
   "language": "python",
   "name": "python3"
  },
  "language_info": {
   "codemirror_mode": {
    "name": "ipython",
    "version": 3
   },
   "file_extension": ".py",
   "mimetype": "text/x-python",
   "name": "python",
   "nbconvert_exporter": "python",
   "pygments_lexer": "ipython3",
   "version": "3.13.7"
  }
 },
 "nbformat": 4,
 "nbformat_minor": 5
}
